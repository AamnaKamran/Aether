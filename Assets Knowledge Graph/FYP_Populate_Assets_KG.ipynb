{
  "nbformat": 4,
  "nbformat_minor": 0,
  "metadata": {
    "colab": {
      "provenance": []
    },
    "kernelspec": {
      "name": "python3",
      "display_name": "Python 3"
    },
    "language_info": {
      "name": "python"
    }
  },
  "cells": [
    {
      "cell_type": "markdown",
      "source": [
        "The Knowledge Graph populated in this code will be used for filtering/matching assets based on the scene description they provide. Thus, the asset ontology will not necessarily contain complete information about an asset."
      ],
      "metadata": {
        "id": "KRR642Cj862q"
      }
    },
    {
      "cell_type": "code",
      "execution_count": 5,
      "metadata": {
        "colab": {
          "base_uri": "https://localhost:8080/"
        },
        "id": "WjBNioKWQhwJ",
        "outputId": "10d8b910-2bf0-450a-c22c-d4bd6d06c88a"
      },
      "outputs": [
        {
          "output_type": "stream",
          "name": "stdout",
          "text": [
            "Looking in indexes: https://pypi.org/simple, https://us-python.pkg.dev/colab-wheels/public/simple/\n",
            "Requirement already satisfied: rdflib in /usr/local/lib/python3.8/dist-packages (6.2.0)\n",
            "Requirement already satisfied: pyparsing in /usr/local/lib/python3.8/dist-packages (from rdflib) (3.0.9)\n",
            "Requirement already satisfied: setuptools in /usr/local/lib/python3.8/dist-packages (from rdflib) (57.4.0)\n",
            "Requirement already satisfied: isodate in /usr/local/lib/python3.8/dist-packages (from rdflib) (0.6.1)\n",
            "Requirement already satisfied: six in /usr/local/lib/python3.8/dist-packages (from isodate->rdflib) (1.15.0)\n",
            "Looking in indexes: https://pypi.org/simple, https://us-python.pkg.dev/colab-wheels/public/simple/\n",
            "Requirement already satisfied: SPARQLWrapper in /usr/local/lib/python3.8/dist-packages (2.0.0)\n",
            "Requirement already satisfied: rdflib>=6.1.1 in /usr/local/lib/python3.8/dist-packages (from SPARQLWrapper) (6.2.0)\n",
            "Requirement already satisfied: setuptools in /usr/local/lib/python3.8/dist-packages (from rdflib>=6.1.1->SPARQLWrapper) (57.4.0)\n",
            "Requirement already satisfied: isodate in /usr/local/lib/python3.8/dist-packages (from rdflib>=6.1.1->SPARQLWrapper) (0.6.1)\n",
            "Requirement already satisfied: pyparsing in /usr/local/lib/python3.8/dist-packages (from rdflib>=6.1.1->SPARQLWrapper) (3.0.9)\n",
            "Requirement already satisfied: six in /usr/local/lib/python3.8/dist-packages (from isodate->rdflib>=6.1.1->SPARQLWrapper) (1.15.0)\n",
            "Looking in indexes: https://pypi.org/simple, https://us-python.pkg.dev/colab-wheels/public/simple/\n",
            "Requirement already satisfied: owlready2 in /usr/local/lib/python3.8/dist-packages (0.39)\n"
          ]
        }
      ],
      "source": [
        "!pip install rdflib\n",
        "!pip install SPARQLWrapper\n",
        "!pip install owlready2\n"
      ]
    },
    {
      "cell_type": "code",
      "source": [
        "from rdflib import Graph, URIRef, Literal, BNode\n",
        "from rdflib.namespace import FOAF, XMLNS, XSD, RDF, RDFS, OWL\n",
        "\n",
        "g = Graph()\n",
        "g.parse(\"megascan_assets_ontology.ttl\")\n",
        "\n",
        "print(len(g))\n"
      ],
      "metadata": {
        "colab": {
          "base_uri": "https://localhost:8080/"
        },
        "id": "-4jbcoW9Xzd0",
        "outputId": "598d7c21-25c0-4a79-b25f-4896dc3fd91d"
      },
      "execution_count": 12,
      "outputs": [
        {
          "output_type": "stream",
          "name": "stdout",
          "text": [
            "123\n"
          ]
        }
      ]
    },
    {
      "cell_type": "code",
      "source": [
        "from rdflib import Namespace\n",
        "import json\n",
        "import re\n",
        "\n",
        "environments_count = 0\n",
        "\n",
        "\n",
        "# Open asset file\n",
        "f = open('/content/tk4tcfhfa.json')\n",
        "\n",
        "data = json.load(f) # json file loaded as dictionary\n",
        "n = Namespace(\"http://www.semanticweb.org/szm/megascan-assets-ontology#\")\n",
        "\n",
        "# For the code segment below, apply loop on all asset files in directory\n",
        "\n",
        "\n",
        "# Fixed of-interest properties for searching asset file\n",
        "size_property = URIRef(str(n)+\"Property_Size\")\n",
        "g.add((size_property, RDF.type, n.Property))\n",
        "\n",
        "age_property = URIRef(str(n)+\"Property_Age\")\n",
        "g.add((age_property, RDF.type, n.Property))\n",
        "\n",
        "orientation_property = URIRef(str(n)+\"Property_Orientation\")\n",
        "g.add((orientation_property, RDF.type, n.Property))\n",
        "\n",
        "color_property = URIRef(str(n)+\"Property_Color\")\n",
        "g.add((color_property, RDF.type, n.Property))\n",
        "\n",
        "\n",
        "# Create asset and set asset name\n",
        "name = data[\"name\"]     # obtain name of asset, convert it to RDF format literal\n",
        "name_processed = re.sub(\"[^a-zA-Z0-9]\", \"_\", name)\n",
        "print(name)\n",
        "print(name_processed)\n",
        "asset = URIRef(str(n)+\"Asset_\"+name_processed)  # create a resource in the Assets Knowledge Graph (KG)\n",
        "g.add((asset, RDF.type, n.Asset))\n",
        "g.add((asset, n.assetName, Literal(name)))     # Add triple to KG: {new Asset resource, nameRelation (from schema), name obtained from asset file}\n",
        "\n",
        "try:\n",
        "  # Set asset ID\n",
        "  id = Literal(str(data[\"id\"]))     # obtain name of asset, convert it to RDF format literal\n",
        "  g.add((asset, n.assetID, id))\n",
        "except:\n",
        "  print(\"No asset ID specified for asset\", asset)\n",
        "\n",
        "try:\n",
        "  # Set asset search tags\n",
        "  tags = data[\"tags\"]\n",
        "  print(\"number of tags = \", len(tags))\n",
        "  for t in tags:\n",
        "    tag = Literal(str(t))\n",
        "    g.add((asset, n.assetTag, tag))\n",
        "except:\n",
        "  print(\"No search tags specified for asset\", asset)\n",
        "\n",
        "try:\n",
        "  # Create category individuals and set their names, then assign asset categories\n",
        "  categories = data[\"categories\"]\n",
        "  print(\"number of categories = \", len(categories))\n",
        "  for c in categories:\n",
        "    category = URIRef(str(n)+\"Category_\"+str(re.sub(\"[^a-zA-Z0-9]\", \"_\", c)))    # these categories should be unique in ontology\n",
        "    g.add((category, RDF.type, n.Category))\n",
        "    category_label = Literal(c)\n",
        "    g.add((category, RDFS.label, category_label))\n",
        "    g.add((asset, n.assetBelongsToCategory, category))\n",
        "except:\n",
        "  print(\"No categories specified for asset\", asset)\n",
        "# Create property individuals of size, age, orientation and color\n",
        "# Other properties are not needed for filtering assets\n",
        "try:\n",
        "  properties = data[\"properties\"]\n",
        "  print(\"number of properties = \", len(properties))\n",
        "  for key,value in properties.items():\n",
        "    if key == \"size\":\n",
        "      print(value, Literal(value))\n",
        "      g.add((asset, n.assetHasProperty, size_property))\n",
        "      g.add((asset, n.assetSizeProperty, Literal(value)))\n",
        "    elif key == \"age\":\n",
        "      print(value, Literal(value))\n",
        "      g.add((asset, n.assetHasProperty, age_property))\n",
        "      g.add((asset, n.assetAgeProperty, Literal(value)))\n",
        "    elif key == \"orientation\":\n",
        "      print(value, Literal(value))\n",
        "      g.add((asset, n.assetHasProperty, orientation_property))\n",
        "      g.add((asset, n.assetOrientationProperty, Literal(value)))\n",
        "    elif key == \"color\":\n",
        "      print(value, Literal(value))\n",
        "      g.add((asset, n.assetHasProperty, color_property))\n",
        "      g.add((asset, n.assetColorProperty, Literal(value)))\n",
        "except:\n",
        "  print(\"No properties specified for asset\", asset)\n",
        "\n",
        "\n",
        "unique_biomes = set()\n",
        "unique_regions = set()\n",
        "\n",
        "# Create region and biome individuals, then link to assets\n",
        "try:\n",
        "  biome = URIRef(str(n)+\"Biome_\"+data[\"environment\"][\"biome\"])\n",
        "  region = URIRef(str(n)+\"Region_\"+data[\"environment\"][\"region\"])\n",
        "  if biome not in unique_biomes or region not in unique_regions:\n",
        "    environments_count +=1\n",
        "    environment = URIRef(str(n)+\"Environment_\"+str(environments_count))\n",
        "    g.add((asset, n.assetHasEnvironment, environment))\n",
        "\n",
        "    g.add((biome, RDFS.label, Literal(data[\"environment\"][\"biome\"])))\n",
        "    g.add((environment, n.environmentHasBiome, biome))\n",
        "\n",
        "    g.add((region, RDFS.label, Literal(data[\"environment\"][\"region\"])))\n",
        "    g.add((environment, n.environmentHasRegion, region))\n",
        "\n",
        "  unique_biomes.add(biome)\n",
        "  unique_regions.add(region)\n",
        "  \n",
        "except:\n",
        "  print(\"No environment with biome and region specified for asset\", asset)\n",
        "\n",
        "\n",
        "print(len(g))\n",
        "\n",
        "f.close()\n",
        "\n",
        "g.serialize(destination='Populated_Assets_KG.ttl', format='turtle')\n"
      ],
      "metadata": {
        "colab": {
          "base_uri": "https://localhost:8080/"
        },
        "id": "5jtfKGpqZE7i",
        "outputId": "9952a554-efd7-4832-fda5-731cc87fa190"
      },
      "execution_count": 13,
      "outputs": [
        {
          "output_type": "stream",
          "name": "stdout",
          "text": [
            "Mossy Mounds\n",
            "Mossy_Mounds\n",
            "number of tags =  14\n",
            "number of categories =  3\n",
            "number of properties =  2\n",
            "No properties specified for asset http://www.semanticweb.org/szm/megascan-assets-ontology#Asset_Mossy_Mounds\n",
            "158\n"
          ]
        },
        {
          "output_type": "execute_result",
          "data": {
            "text/plain": [
              "<Graph identifier=N444739b696f94873a493053fe5b144d0 (<class 'rdflib.graph.Graph'>)>"
            ]
          },
          "metadata": {},
          "execution_count": 13
        }
      ]
    }
  ]
}